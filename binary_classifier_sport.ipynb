{
  "nbformat": 4,
  "nbformat_minor": 0,
  "metadata": {
    "colab": {
      "name": "binary_classifier_sport.ipynb",
      "provenance": [],
      "collapsed_sections": []
    },
    "kernelspec": {
      "name": "python3",
      "display_name": "Python 3"
    },
    "language_info": {
      "name": "python"
    }
  },
  "cells": [
    {
      "cell_type": "code",
      "metadata": {
        "id": "d4Egg-xgyEo6"
      },
      "source": [
        "import pandas as pd\n",
        "import numpy as np\n",
        "from google.colab import files\n",
        "import io\n",
        "import matplotlib.pyplot as plt\n",
        "%matplotlib inline\n",
        "\n",
        "import spacy\n",
        "nlp = spacy.load('en_core_web_sm')"
      ],
      "execution_count": 1,
      "outputs": []
    },
    {
      "cell_type": "code",
      "metadata": {
        "id": "6YFvu86pzkzB"
      },
      "source": [
        "uploaded = files.upload()\n",
        "data = pd.read_excel(io.BytesIO(uploaded['data_project1_file.xlsx']))\n",
        "data = data.set_index('Unnamed: 0')\n",
        "data.index.names = ['Index']\n",
        "data.head(2)"
      ],
      "execution_count": null,
      "outputs": []
    },
    {
      "cell_type": "code",
      "metadata": {
        "id": "tu9k4jku0XXC"
      },
      "source": [
        "# making labels - 1 for 'footbal' class and 0 for 'boxing' class\n",
        "# concatenating text data with labels\n",
        "foot_label = pd.Series(np.ones(304, int))\n",
        "box_label = pd.Series(np.zeros(305, int))\n",
        "labels = pd.concat([foot_label, box_label], axis = 0, ignore_index=True)\n",
        "data[\"Labels\"] = labels\n",
        "data[302:307]"
      ],
      "execution_count": null,
      "outputs": []
    },
    {
      "cell_type": "code",
      "metadata": {
        "colab": {
          "base_uri": "https://localhost:8080/",
          "height": 142
        },
        "id": "GQWbns9U2m3P",
        "outputId": "33448d77-1c94-4142-858f-4426b0ad88c1"
      },
      "source": [
        "def preprocess(messg):\n",
        "  \"\"\"\n",
        "  Function for cleaning text data - including following processes (steps):\n",
        "  - normalizing text to lower case\n",
        "  - processing text through SpaCy pipline with english small language model\n",
        "  - removing stopwords, numbers and punctuation\n",
        "  - getting words' lemmas\n",
        "\n",
        "  messg = piece of text data\n",
        "  \"\"\"\n",
        "  messg = messg.lower()\n",
        "  messg = nlp(messg)\n",
        "  doc = \" \".join(char.lemma_ for char in messg if (not char.is_stop and not char.is_punct and not char.like_num))\n",
        "  return doc\n",
        "\n",
        "data[\"Text\"] = data[\"Text\"].apply(preprocess)\n",
        "data.tail(2)"
      ],
      "execution_count": 7,
      "outputs": [
        {
          "output_type": "execute_result",
          "data": {
            "text/html": [
              "<div>\n",
              "<style scoped>\n",
              "    .dataframe tbody tr th:only-of-type {\n",
              "        vertical-align: middle;\n",
              "    }\n",
              "\n",
              "    .dataframe tbody tr th {\n",
              "        vertical-align: top;\n",
              "    }\n",
              "\n",
              "    .dataframe thead th {\n",
              "        text-align: right;\n",
              "    }\n",
              "</style>\n",
              "<table border=\"1\" class=\"dataframe\">\n",
              "  <thead>\n",
              "    <tr style=\"text-align: right;\">\n",
              "      <th></th>\n",
              "      <th>Text</th>\n",
              "      <th>Labels</th>\n",
              "    </tr>\n",
              "    <tr>\n",
              "      <th>Index</th>\n",
              "      <th></th>\n",
              "      <th></th>\n",
              "    </tr>\n",
              "  </thead>\n",
              "  <tbody>\n",
              "    <tr>\n",
              "      <th>607</th>\n",
              "      <td>brilliant tragic tale battle siki box african ...</td>\n",
              "      <td>0</td>\n",
              "    </tr>\n",
              "    <tr>\n",
              "      <th>608</th>\n",
              "      <td>heavyweight miracle send hasim rahman starry e...</td>\n",
              "      <td>0</td>\n",
              "    </tr>\n",
              "  </tbody>\n",
              "</table>\n",
              "</div>"
            ],
            "text/plain": [
              "                                                    Text  Labels\n",
              "Index                                                           \n",
              "607    brilliant tragic tale battle siki box african ...       0\n",
              "608    heavyweight miracle send hasim rahman starry e...       0"
            ]
          },
          "metadata": {},
          "execution_count": 7
        }
      ]
    },
    {
      "cell_type": "code",
      "metadata": {
        "id": "fZ9gpze221S5"
      },
      "source": [
        "# defining X and y variables (i.e., our features and labels)\n",
        "X = data[\"Text\"]\n",
        "y = data[\"Labels\"]"
      ],
      "execution_count": 9,
      "outputs": []
    },
    {
      "cell_type": "code",
      "metadata": {
        "id": "lSS6kbbDIPCS"
      },
      "source": [
        "from sklearn.model_selection import train_test_split\n",
        "from collections import Counter\n",
        "\n",
        "def counting(text):\n",
        "  count_dict = Counter()\n",
        "  for article in text.values:\n",
        "    for word in article.split():\n",
        "      count_dict[word] +=1\n",
        "  \n",
        "  return count_dict\n",
        "\n",
        "count_dictionary = counting(X)"
      ],
      "execution_count": 10,
      "outputs": []
    },
    {
      "cell_type": "code",
      "metadata": {
        "id": "43DFC5755Qin",
        "colab": {
          "base_uri": "https://localhost:8080/"
        },
        "outputId": "972ea65a-7e21-4be6-fcbe-15da426858a8"
      },
      "source": [
        "number_words = len(count_dictionary)\n",
        "# length of full vocabulary\n",
        "number_words"
      ],
      "execution_count": 12,
      "outputs": [
        {
          "output_type": "execute_result",
          "data": {
            "text/plain": [
              "3663"
            ]
          },
          "metadata": {},
          "execution_count": 12
        }
      ]
    },
    {
      "cell_type": "code",
      "metadata": {
        "colab": {
          "base_uri": "https://localhost:8080/"
        },
        "id": "e56UzNDf5TF5",
        "outputId": "81ade8bf-ca9b-47d8-b61e-8e387cac34a8"
      },
      "source": [
        "# 10 most common words from vocabulary\n",
        "count_dictionary.most_common(10)"
      ],
      "execution_count": 13,
      "outputs": [
        {
          "output_type": "execute_result",
          "data": {
            "text/plain": [
              "[('fight', 143),\n",
              " ('world', 140),\n",
              " ('league', 112),\n",
              " ('title', 102),\n",
              " ('win', 97),\n",
              " ('champion', 93),\n",
              " ('goal', 75),\n",
              " ('boxing', 74),\n",
              " ('say', 66),\n",
              " ('score', 63)]"
            ]
          },
          "metadata": {},
          "execution_count": 13
        }
      ]
    },
    {
      "cell_type": "code",
      "metadata": {
        "id": "hjttVNpH5ezK"
      },
      "source": [
        "from sklearn.model_selection import train_test_split\n",
        "\n",
        "X_train, X_test, y_train, y_test = train_test_split(X, y, test_size = 0.2, random_state = 4)\n",
        "X_train"
      ],
      "execution_count": null,
      "outputs": []
    },
    {
      "cell_type": "code",
      "metadata": {
        "colab": {
          "base_uri": "https://localhost:8080/"
        },
        "id": "B2872Had54TO",
        "outputId": "37dadd38-032d-40ed-ba30-f5152a485f29"
      },
      "source": [
        "X_train.shape, X_test.shape"
      ],
      "execution_count": 15,
      "outputs": [
        {
          "output_type": "execute_result",
          "data": {
            "text/plain": [
              "((487,), (122,))"
            ]
          },
          "metadata": {},
          "execution_count": 15
        }
      ]
    },
    {
      "cell_type": "code",
      "metadata": {
        "id": "nOnbmymFOwk_"
      },
      "source": [
        "from sklearn.feature_extraction.text import TfidfVectorizer\n",
        "from sklearn.naive_bayes import MultinomialNB\n",
        "from sklearn.svm import SVC\n",
        "from sklearn.pipeline import Pipeline\n",
        "from sklearn.linear_model import LogisticRegression\n",
        "\n",
        "\n",
        "# let's define our 3 models - Naive Bayes, Support Vector Machine and Logistig Regression with TfIdf vectorizer\n",
        "\n",
        "model_naive1 = Pipeline([('tfidf', TfidfVectorizer()), ('naive_model', MultinomialNB())])\n",
        "model_svm = Pipeline([('tfidf', TfidfVectorizer()), ('svc', SVC())])\n",
        "model_log = Pipeline([('tfidf', TfidfVectorizer()), ('log_reg', LogisticRegression())])"
      ],
      "execution_count": 16,
      "outputs": []
    },
    {
      "cell_type": "code",
      "metadata": {
        "id": "cfmomIiuO7SG"
      },
      "source": [
        "model_naive1.fit(X_train, y_train)\n",
        "model_svm.fit(X_train, y_train)\n",
        "model_log.fit(X_train, y_train)"
      ],
      "execution_count": null,
      "outputs": []
    },
    {
      "cell_type": "code",
      "metadata": {
        "colab": {
          "base_uri": "https://localhost:8080/",
          "height": 110
        },
        "id": "15ixSATTQR-3",
        "outputId": "f8a9ee87-83c2-4da4-f00c-ce97559d8f5a"
      },
      "source": [
        "# evaluating models\n",
        "\n",
        "from sklearn import  metrics\n",
        "\n",
        "predictions1 = model_naive1.predict(X_test)\n",
        "predictions2 = model_svm.predict(X_test)\n",
        "df_naive = pd.DataFrame(metrics.confusion_matrix(y_test, predictions1), index=['true_box', 'true_football'], columns=['predicted_box', 'predicted_football'])\n",
        "df_naive"
      ],
      "execution_count": 18,
      "outputs": [
        {
          "output_type": "execute_result",
          "data": {
            "text/html": [
              "<div>\n",
              "<style scoped>\n",
              "    .dataframe tbody tr th:only-of-type {\n",
              "        vertical-align: middle;\n",
              "    }\n",
              "\n",
              "    .dataframe tbody tr th {\n",
              "        vertical-align: top;\n",
              "    }\n",
              "\n",
              "    .dataframe thead th {\n",
              "        text-align: right;\n",
              "    }\n",
              "</style>\n",
              "<table border=\"1\" class=\"dataframe\">\n",
              "  <thead>\n",
              "    <tr style=\"text-align: right;\">\n",
              "      <th></th>\n",
              "      <th>predicted_box</th>\n",
              "      <th>predicted_football</th>\n",
              "    </tr>\n",
              "  </thead>\n",
              "  <tbody>\n",
              "    <tr>\n",
              "      <th>true_box</th>\n",
              "      <td>65</td>\n",
              "      <td>1</td>\n",
              "    </tr>\n",
              "    <tr>\n",
              "      <th>true_football</th>\n",
              "      <td>1</td>\n",
              "      <td>55</td>\n",
              "    </tr>\n",
              "  </tbody>\n",
              "</table>\n",
              "</div>"
            ],
            "text/plain": [
              "               predicted_box  predicted_football\n",
              "true_box                  65                   1\n",
              "true_football              1                  55"
            ]
          },
          "metadata": {},
          "execution_count": 18
        }
      ]
    },
    {
      "cell_type": "code",
      "metadata": {
        "id": "epu2YsxGHx6D"
      },
      "source": [
        "#! pip install -q scikit-plot"
      ],
      "execution_count": 21,
      "outputs": []
    },
    {
      "cell_type": "code",
      "metadata": {
        "colab": {
          "base_uri": "https://localhost:8080/",
          "height": 365
        },
        "id": "eUL4k2JaQ-Kj",
        "outputId": "a0fff062-cf45-4a73-b244-a8a189cf97a1"
      },
      "source": [
        "# visualizing the results\n",
        "\n",
        "import scikitplot as skplt\n",
        "skplt.metrics.plot_confusion_matrix(y_test, predictions1, cmap = 'YlOrRd', normalize=True, text_fontsize='large', figsize=(6,6))\n",
        "plt.show()"
      ],
      "execution_count": 24,
      "outputs": [
        {
          "output_type": "display_data",
          "data": {
            "image/png": "[encoded data removed]",
            "text/plain": [
              "<Figure size 432x432 with 2 Axes>"
            ]
          },
          "metadata": {
            "needs_background": "light"
          }
        }
      ]
    },
    {
      "cell_type": "code",
      "metadata": {
        "colab": {
          "base_uri": "https://localhost:8080/",
          "height": 110
        },
        "id": "HuDBy7auQp4l",
        "outputId": "c93de7b5-dc31-4689-aafa-fb44a13ac66b"
      },
      "source": [
        "# same for SVM model - getting confusion matrix\n",
        "\n",
        "df_svm = pd.DataFrame(metrics.confusion_matrix(y_test, predictions2), index=['true_box', 'true_football'], columns=['predicted_box', 'predicted_football'])\n",
        "df_svm"
      ],
      "execution_count": 25,
      "outputs": [
        {
          "output_type": "execute_result",
          "data": {
            "text/html": [
              "<div>\n",
              "<style scoped>\n",
              "    .dataframe tbody tr th:only-of-type {\n",
              "        vertical-align: middle;\n",
              "    }\n",
              "\n",
              "    .dataframe tbody tr th {\n",
              "        vertical-align: top;\n",
              "    }\n",
              "\n",
              "    .dataframe thead th {\n",
              "        text-align: right;\n",
              "    }\n",
              "</style>\n",
              "<table border=\"1\" class=\"dataframe\">\n",
              "  <thead>\n",
              "    <tr style=\"text-align: right;\">\n",
              "      <th></th>\n",
              "      <th>predicted_box</th>\n",
              "      <th>predicted_football</th>\n",
              "    </tr>\n",
              "  </thead>\n",
              "  <tbody>\n",
              "    <tr>\n",
              "      <th>true_box</th>\n",
              "      <td>65</td>\n",
              "      <td>1</td>\n",
              "    </tr>\n",
              "    <tr>\n",
              "      <th>true_football</th>\n",
              "      <td>1</td>\n",
              "      <td>55</td>\n",
              "    </tr>\n",
              "  </tbody>\n",
              "</table>\n",
              "</div>"
            ],
            "text/plain": [
              "               predicted_box  predicted_football\n",
              "true_box                  65                   1\n",
              "true_football              1                  55"
            ]
          },
          "metadata": {},
          "execution_count": 25
        }
      ]
    },
    {
      "cell_type": "code",
      "metadata": {
        "colab": {
          "base_uri": "https://localhost:8080/",
          "height": 110
        },
        "id": "jpnt_3Y9RnSa",
        "outputId": "9076f858-9641-41b1-d3b9-1dad84e90644"
      },
      "source": [
        "# and logistic regression\n",
        "\n",
        "predictions3 = model_log.predict(X_test)\n",
        "df_log = pd.DataFrame(metrics.confusion_matrix(y_test, predictions3), index=['true_box', 'true_football'], columns=['predicted_box', 'predicted_football'])\n",
        "df_log"
      ],
      "execution_count": 26,
      "outputs": [
        {
          "output_type": "execute_result",
          "data": {
            "text/html": [
              "<div>\n",
              "<style scoped>\n",
              "    .dataframe tbody tr th:only-of-type {\n",
              "        vertical-align: middle;\n",
              "    }\n",
              "\n",
              "    .dataframe tbody tr th {\n",
              "        vertical-align: top;\n",
              "    }\n",
              "\n",
              "    .dataframe thead th {\n",
              "        text-align: right;\n",
              "    }\n",
              "</style>\n",
              "<table border=\"1\" class=\"dataframe\">\n",
              "  <thead>\n",
              "    <tr style=\"text-align: right;\">\n",
              "      <th></th>\n",
              "      <th>predicted_box</th>\n",
              "      <th>predicted_football</th>\n",
              "    </tr>\n",
              "  </thead>\n",
              "  <tbody>\n",
              "    <tr>\n",
              "      <th>true_box</th>\n",
              "      <td>65</td>\n",
              "      <td>1</td>\n",
              "    </tr>\n",
              "    <tr>\n",
              "      <th>true_football</th>\n",
              "      <td>1</td>\n",
              "      <td>55</td>\n",
              "    </tr>\n",
              "  </tbody>\n",
              "</table>\n",
              "</div>"
            ],
            "text/plain": [
              "               predicted_box  predicted_football\n",
              "true_box                  65                   1\n",
              "true_football              1                  55"
            ]
          },
          "metadata": {},
          "execution_count": 26
        }
      ]
    },
    {
      "cell_type": "code",
      "metadata": {
        "colab": {
          "base_uri": "https://localhost:8080/"
        },
        "id": "XaqNgLaaP_xW",
        "outputId": "bde97130-c1e2-4a46-ae33-3cc127e4fe5a"
      },
      "source": [
        " # getting accuracy score for naive bayes model - how good is this classifier?\n",
        " print(f'Accuracy scores for:\\n\\nNaive Bayes - {round(metrics.accuracy_score(y_test, predictions1), 3)}\\nSVM -  {round(metrics.accuracy_score(y_test, predictions2), 3)}\\nLogReg -  {round(metrics.accuracy_score(y_test, predictions3), 3)}')"
      ],
      "execution_count": 90,
      "outputs": [
        {
          "output_type": "stream",
          "name": "stdout",
          "text": [
            "Accuracy scores for:\n",
            "\n",
            "Naive Bayes - 0.984\n",
            "SVM -  0.984\n",
            "LogReg -  0.984\n"
          ]
        }
      ]
    },
    {
      "cell_type": "code",
      "metadata": {
        "id": "zOFXnXiXIEBQ"
      },
      "source": [
        "from wordcloud import  WordCloud\n",
        "\n",
        "football_word_set = data[\"Text\"][:304]\n",
        "football_word_set = \" \".join(text for text in football_word_set)\n",
        "\n",
        "boxing_word_set = data[\"Text\"][304:]\n",
        "boxing_word_set = \" \".join(text for text in boxing_word_set)"
      ],
      "execution_count": 28,
      "outputs": []
    },
    {
      "cell_type": "code",
      "metadata": {
        "colab": {
          "base_uri": "https://localhost:8080/"
        },
        "id": "pQzg8PDIIUsb",
        "outputId": "8ef26cc9-4d6f-4fad-a995-9acb9e846371"
      },
      "source": [
        "len(football_word_set), len(boxing_word_set)"
      ],
      "execution_count": 29,
      "outputs": [
        {
          "output_type": "execute_result",
          "data": {
            "text/plain": [
              "(46669, 46234)"
            ]
          },
          "metadata": {},
          "execution_count": 29
        }
      ]
    },
    {
      "cell_type": "code",
      "metadata": {
        "colab": {
          "base_uri": "https://localhost:8080/",
          "height": 234
        },
        "id": "m2AIYmrvIcMZ",
        "outputId": "c05b2099-ddc3-47c4-8b83-89b6febbfd61"
      },
      "source": [
        "wordcloud_foot = WordCloud(max_words=10, colormap='RdBu').generate(football_word_set)\n",
        "plt.imshow(wordcloud_foot, interpolation='bilinear')\n",
        "plt.title('Football category most common 10 words\\n', fontsize=16)\n",
        "plt.axis(\"off\")\n",
        "plt.show()"
      ],
      "execution_count": 69,
      "outputs": [
        {
          "output_type": "display_data",
          "data": {
            "image/png": "[encoded data removed]",
            "text/plain": [
              "<Figure size 432x288 with 1 Axes>"
            ]
          },
          "metadata": {
            "needs_background": "light"
          }
        }
      ]
    },
    {
      "cell_type": "code",
      "metadata": {
        "colab": {
          "base_uri": "https://localhost:8080/",
          "height": 234
        },
        "id": "xGdbkHb4IinW",
        "outputId": "22683c66-818b-4e14-8fa9-7094629c6cf3"
      },
      "source": [
        "wordcloud_box = WordCloud(max_words=10, colormap='coolwarm').generate(boxing_word_set)\n",
        "plt.imshow(wordcloud_box, interpolation='bilinear')\n",
        "plt.title('Boxing category most common 10 words\\n', fontsize=16)\n",
        "plt.axis(\"off\")\n",
        "plt.show()"
      ],
      "execution_count": 71,
      "outputs": [
        {
          "output_type": "display_data",
          "data": {
            "image/png": "[encoded data removed]",
            "text/plain": [
              "<Figure size 432x288 with 1 Axes>"
            ]
          },
          "metadata": {
            "needs_background": "light"
          }
        }
      ]
    },
    {
      "cell_type": "code",
      "metadata": {
        "id": "VnbIyiYmZFa_"
      },
      "source": [
        "# can LDA accurately model our 2 topics?\n",
        "\n",
        "from sklearn.decomposition import LatentDirichletAllocation\n",
        "LDA = LatentDirichletAllocation(n_components=2, random_state=42)\n",
        "\n",
        "from sklearn.feature_extraction.text import CountVectorizer\n",
        "cv = CountVectorizer(max_df=0.95, min_df=2, stop_words='english')\n",
        "\n",
        "dtm = cv.fit_transform(X)"
      ],
      "execution_count": 34,
      "outputs": []
    },
    {
      "cell_type": "code",
      "metadata": {
        "id": "ImolFCAnZTK9"
      },
      "source": [
        "cv.get_feature_names()[100:125]"
      ],
      "execution_count": null,
      "outputs": []
    },
    {
      "cell_type": "code",
      "metadata": {
        "colab": {
          "base_uri": "https://localhost:8080/"
        },
        "id": "dROudA9uZGi0",
        "outputId": "40fea31c-38a2-452a-827c-c3ec1ce43833"
      },
      "source": [
        "dtm.shape"
      ],
      "execution_count": 36,
      "outputs": [
        {
          "output_type": "execute_result",
          "data": {
            "text/plain": [
              "(609, 1608)"
            ]
          },
          "metadata": {},
          "execution_count": 36
        }
      ]
    },
    {
      "cell_type": "code",
      "metadata": {
        "id": "EfK0Te4OZLuN"
      },
      "source": [
        "LDA.fit(dtm)"
      ],
      "execution_count": null,
      "outputs": []
    },
    {
      "cell_type": "code",
      "metadata": {
        "colab": {
          "base_uri": "https://localhost:8080/"
        },
        "id": "zTdpXbHeZxX8",
        "outputId": "92a16aee-0ce7-4a1d-b93a-e11a916379ed"
      },
      "source": [
        "# let's see top 10 words (keywords) for first topic\n",
        "\n",
        "one = LDA.components_[1]\n",
        "one = one.argsort()[::-1]\n",
        "one_10 = one[:10]\n",
        "\n",
        "for i in one_10:\n",
        "  print(cv.get_feature_names()[i])"
      ],
      "execution_count": 38,
      "outputs": [
        {
          "output_type": "stream",
          "name": "stdout",
          "text": [
            "fight\n",
            "title\n",
            "world\n",
            "champion\n",
            "heavyweight\n",
            "league\n",
            "win\n",
            "say\n",
            "year\n",
            "wbc\n"
          ]
        }
      ]
    },
    {
      "cell_type": "code",
      "metadata": {
        "colab": {
          "base_uri": "https://localhost:8080/"
        },
        "id": "l9uGqoCIahG6",
        "outputId": "a88bedbb-2dde-4454-cd87-7bd87a628f52"
      },
      "source": [
        "# let's compare top 10 words from 2 topics - there are some diffetences ...\n",
        "# but at the same time top keywords seem to be similar (or even repeat in 2 topics)\n",
        "\n",
        "for index, topic in enumerate(LDA.components_):\n",
        "  print(f'THE TOP 10 WORDS FOR TOPIC #{index}')\n",
        "  print([cv.get_feature_names()[i] for i in topic.argsort()[-10:]])\n",
        "  print('\\n')"
      ],
      "execution_count": 40,
      "outputs": [
        {
          "output_type": "stream",
          "name": "stdout",
          "text": [
            "THE TOP 10 WORDS FOR TOPIC #0\n",
            "['cup', 'season', 'team', 'goal', 'win', 'year', 'fight', 'game', 'league', 'world']\n",
            "\n",
            "\n",
            "THE TOP 10 WORDS FOR TOPIC #1\n",
            "['wbc', 'year', 'say', 'win', 'league', 'heavyweight', 'champion', 'world', 'title', 'fight']\n",
            "\n",
            "\n"
          ]
        }
      ]
    },
    {
      "cell_type": "code",
      "metadata": {
        "id": "nlwqB0dQLkEu"
      },
      "source": [
        "import gensim\n",
        "import gensim.corpora as corpora\n",
        "from gensim.corpora import Dictionary\n",
        "from gensim.models.ldamodel import LdaModel\n"
      ],
      "execution_count": 41,
      "outputs": []
    },
    {
      "cell_type": "code",
      "metadata": {
        "id": "WGgmF5K3NOh7"
      },
      "source": [
        "words = [word.split() for word in X.values]"
      ],
      "execution_count": 65,
      "outputs": []
    },
    {
      "cell_type": "code",
      "metadata": {
        "id": "C_eK6E3BLnB-"
      },
      "source": [
        "id2word = Dictionary(words)\n",
        "corpus = [id2word.doc2bow(t) for t in words]\n",
        "\n",
        "lda_model = LdaModel(corpus = corpus, id2word = id2word, num_topics = 2, random_state = 3, alpha = 'auto', per_word_topics = True)"
      ],
      "execution_count": 84,
      "outputs": []
    },
    {
      "cell_type": "code",
      "metadata": {
        "colab": {
          "base_uri": "https://localhost:8080/"
        },
        "id": "H3-RhVFPOIbi",
        "outputId": "13bf7d33-07a1-4e73-c3c7-446643ca105c"
      },
      "source": [
        "# weigths for top words (keywords) for each topic\n",
        "topics = lda_model.print_topics()\n",
        "\n",
        "for i in topics:\n",
        "  print(i[1])"
      ],
      "execution_count": 85,
      "outputs": [
        {
          "output_type": "stream",
          "name": "stdout",
          "text": [
            "0.011*\"world\" + 0.010*\"fight\" + 0.007*\"title\" + 0.007*\"win\" + 0.006*\"champion\" + 0.006*\"league\" + 0.005*\"score\" + 0.005*\"goal\" + 0.004*\"time\" + 0.004*\"heavyweight\"\n",
            "0.008*\"league\" + 0.007*\"fight\" + 0.006*\"boxing\" + 0.005*\"say\" + 0.005*\"champion\" + 0.005*\"world\" + 0.005*\"title\" + 0.005*\"win\" + 0.004*\"club\" + 0.004*\"game\"\n"
          ]
        }
      ]
    }
  ]
}